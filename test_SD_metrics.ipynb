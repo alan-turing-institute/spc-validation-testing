{
 "cells": [
  {
   "cell_type": "code",
   "execution_count": null,
   "metadata": {},
   "outputs": [],
   "source": [
    "from sdmetrics import load_demo\n",
    "from sdmetrics.reports.single_table import QualityReport"
   ]
  },
  {
   "cell_type": "code",
   "execution_count": 2,
   "metadata": {},
   "outputs": [
    {
     "name": "stderr",
     "output_type": "stream",
     "text": [
      "Creating report: 100%|██████████| 4/4 [00:00<00:00,  5.46it/s]\n"
     ]
    },
    {
     "name": "stdout",
     "output_type": "stream",
     "text": [
      "\n",
      "Overall Quality Score: 81.44%\n",
      "\n",
      "Properties:\n",
      "Column Shapes: 81.56%\n",
      "Column Pair Trends: 81.33%\n"
     ]
    }
   ],
   "source": [
    "real_data, synthetic_data, metadata = load_demo(modality='single_table')\n",
    "\n",
    "my_report = QualityReport()\n",
    "my_report.generate(real_data, synthetic_data, metadata)"
   ]
  },
  {
   "cell_type": "code",
   "execution_count": 3,
   "metadata": {},
   "outputs": [
    {
     "data": {
      "application/vnd.plotly.v1+json": {
       "config": {
        "plotlyServerURL": "https://plot.ly"
       },
       "data": [
        {
         "coloraxis": "coloraxis",
         "hovertemplate": "<b>Column Pair</b><br>(%{x},%{y})<br><br>Similarity: %{z}<extra></extra>",
         "type": "heatmap",
         "x": [
          "mba_spec",
          "start_date",
          "degree_perc",
          "degree_type",
          "end_date",
          "high_spec",
          "placed",
          "employability_perc",
          "work_experience",
          "experience_years",
          "duration",
          "second_perc",
          "high_perc",
          "gender",
          "mba_perc",
          "salary"
         ],
         "xaxis": "x",
         "y": [
          "mba_spec",
          "start_date",
          "degree_perc",
          "degree_type",
          "end_date",
          "high_spec",
          "placed",
          "employability_perc",
          "work_experience",
          "experience_years",
          "duration",
          "second_perc",
          "high_perc",
          "gender",
          "mba_perc",
          "salary"
         ],
         "yaxis": "y",
         "z": [
          [
           1,
           0.86,
           0.63,
           0.93,
           0.83,
           0.88,
           0.92,
           0.72,
           0.93,
           0.8,
           0.86,
           0.64,
           0.55,
           0.94,
           0.7,
           0.79
          ],
          [
           0.86,
           1,
           0.91,
           0.85,
           0.91,
           0.84,
           0.82,
           1,
           0.8,
           0.95,
           0.83,
           0.99,
           0.94,
           0.86,
           0.98,
           0.97
          ],
          [
           0.63,
           0.91,
           1,
           0.58,
           0.93,
           0.6,
           0.49,
           0.92,
           0.6,
           0.92,
           0.92,
           0.77,
           0.86,
           0.62,
           0.88,
           0.95
          ],
          [
           0.93,
           0.85,
           0.58,
           1,
           0.8,
           0.78,
           0.91,
           0.71,
           0.9,
           0.8,
           0.86,
           0.61,
           0.53,
           0.89,
           0.68,
           0.78
          ],
          [
           0.83,
           0.91,
           0.93,
           0.8,
           1,
           0.8,
           0.78,
           0.92,
           0.81,
           0.94,
           0.65,
           0.92,
           0.92,
           0.83,
           0.94,
           0.95
          ],
          [
           0.88,
           0.84,
           0.6,
           0.78,
           0.8,
           1,
           0.9,
           0.69,
           0.9,
           0.8,
           0.85,
           0.61,
           0.51,
           0.89,
           0.71,
           0.76
          ],
          [
           0.92,
           0.82,
           0.49,
           0.91,
           0.78,
           0.9,
           1,
           0.73,
           0.84,
           0.8,
           0.84,
           0.56,
           0.47,
           0.9,
           0.75,
           0.78
          ],
          [
           0.72,
           1,
           0.92,
           0.71,
           0.92,
           0.69,
           0.73,
           1,
           0.67,
           0.98,
           0.91,
           0.94,
           0.91,
           0.68,
           0.88,
           0.93
          ],
          [
           0.93,
           0.8,
           0.6,
           0.9,
           0.81,
           0.9,
           0.84,
           0.67,
           1,
           0.69,
           0.83,
           0.63,
           0.53,
           0.93,
           0.75,
           0.73
          ],
          [
           0.8,
           0.95,
           0.92,
           0.8,
           0.94,
           0.8,
           0.8,
           0.98,
           0.69,
           1,
           0.96,
           0.94,
           0.94,
           0.8,
           0.94,
           1
          ],
          [
           0.86,
           0.83,
           0.92,
           0.86,
           0.65,
           0.85,
           0.84,
           0.91,
           0.83,
           0.96,
           1,
           0.9,
           0.98,
           0.83,
           0.95,
           0.97
          ],
          [
           0.64,
           0.99,
           0.77,
           0.61,
           0.92,
           0.61,
           0.56,
           0.94,
           0.63,
           0.94,
           0.9,
           1,
           0.63,
           0.63,
           0.83,
           0.97
          ],
          [
           0.55,
           0.94,
           0.86,
           0.53,
           0.92,
           0.51,
           0.47,
           0.91,
           0.53,
           0.94,
           0.98,
           0.63,
           1,
           0.55,
           0.81,
           0.96
          ],
          [
           0.94,
           0.86,
           0.62,
           0.89,
           0.83,
           0.89,
           0.9,
           0.68,
           0.93,
           0.8,
           0.83,
           0.63,
           0.55,
           1,
           0.73,
           0.79
          ],
          [
           0.7,
           0.98,
           0.88,
           0.68,
           0.94,
           0.71,
           0.75,
           0.88,
           0.75,
           0.94,
           0.95,
           0.83,
           0.81,
           0.73,
           1,
           0.86
          ],
          [
           0.79,
           0.97,
           0.95,
           0.78,
           0.95,
           0.76,
           0.78,
           0.93,
           0.73,
           1,
           0.97,
           0.97,
           0.96,
           0.79,
           0.86,
           1
          ]
         ]
        },
        {
         "coloraxis": "coloraxis2",
         "customdata": [
          [
           1,
           0.21,
           -0.02,
           -0.07,
           0.13,
           0.04,
           0.04,
           0.06,
           0.08,
           0.04
          ],
          [
           0.21,
           1,
           -0.01,
           -0.12,
           0.17,
           0.08,
           0.11,
           -0.13,
           -0.02,
           -0.08
          ],
          [
           -0.02,
           -0.01,
           1,
           0.09,
           0.16,
           0.1,
           -0.11,
           0.16,
           0.03,
           -0.1
          ],
          [
           -0.07,
           -0.12,
           0.09,
           1,
           -0.04,
           0.04,
           0.14,
           0.13,
           0.13,
           0.06
          ],
          [
           0.13,
           0.17,
           0.16,
           -0.04,
           1,
           -0.23,
           0.16,
           -0.03,
           0.07,
           -0.02
          ],
          [
           0.04,
           0.08,
           0.1,
           0.04,
           -0.23,
           1,
           0.08,
           0.03,
           0.14,
           0.05
          ],
          [
           0.04,
           0.11,
           -0.11,
           0.14,
           0.16,
           0.08,
           1,
           -0.06,
           0.06,
           0.15
          ],
          [
           0.06,
           -0.13,
           0.16,
           0.13,
           -0.03,
           0.03,
           -0.06,
           1,
           0.02,
           0.03
          ],
          [
           0.08,
           -0.02,
           0.03,
           0.13,
           0.07,
           0.14,
           0.06,
           0.02,
           1,
           -0.02
          ],
          [
           0.04,
           -0.08,
           -0.1,
           0.06,
           -0.02,
           0.05,
           0.15,
           0.03,
           -0.02,
           1
          ]
         ],
         "hovertemplate": "<b>Correlation</b><br>(%{x},%{y})<br><br>Real: %{z}<br>(vs. Synthetic: %{customdata})<extra></extra>",
         "type": "heatmap",
         "x": [
          "end_date",
          "start_date",
          "salary",
          "duration",
          "high_perc",
          "second_perc",
          "degree_perc",
          "experience_years",
          "employability_perc",
          "mba_perc"
         ],
         "xaxis": "x2",
         "y": [
          "end_date",
          "start_date",
          "salary",
          "duration",
          "high_perc",
          "second_perc",
          "degree_perc",
          "experience_years",
          "employability_perc",
          "mba_perc"
         ],
         "yaxis": "y2",
         "z": [
          [
           1,
           0.4,
           0.08,
           0.63,
           -0.04,
           -0.12,
           -0.09,
           0.19,
           -0.08,
           -0.09
          ],
          [
           0.4,
           1,
           0.05,
           -0.45,
           0.06,
           0.05,
           -0.07,
           -0.03,
           -0.03,
           -0.04
          ],
          [
           0.08,
           0.05,
           1,
           0.03,
           0.08,
           0.04,
           -0.02,
           0.17,
           0.18,
           0.18
          ],
          [
           0.63,
           -0.45,
           0.03,
           1,
           -0.07,
           -0.15,
           -0.01,
           0.2,
           -0.04,
           -0.04
          ],
          [
           -0.04,
           0.06,
           0.08,
           -0.07,
           1,
           0.51,
           0.43,
           0.09,
           0.25,
           0.35
          ],
          [
           -0.12,
           0.05,
           0.04,
           -0.15,
           0.51,
           1,
           0.54,
           0.16,
           0.26,
           0.39
          ],
          [
           -0.09,
           -0.07,
           -0.02,
           -0.01,
           0.43,
           0.54,
           1,
           0.09,
           0.22,
           0.4
          ],
          [
           0.19,
           -0.03,
           0.17,
           0.2,
           0.09,
           0.16,
           0.09,
           1,
           0.05,
           0.15
          ],
          [
           -0.08,
           -0.03,
           0.18,
           -0.04,
           0.25,
           0.26,
           0.22,
           0.05,
           1,
           0.22
          ],
          [
           -0.09,
           -0.04,
           0.18,
           -0.04,
           0.35,
           0.39,
           0.4,
           0.15,
           0.22,
           1
          ]
         ]
        },
        {
         "coloraxis": "coloraxis2",
         "customdata": [
          [
           1,
           0.4,
           0.08,
           0.63,
           -0.04,
           -0.12,
           -0.09,
           0.19,
           -0.08,
           -0.09
          ],
          [
           0.4,
           1,
           0.05,
           -0.45,
           0.06,
           0.05,
           -0.07,
           -0.03,
           -0.03,
           -0.04
          ],
          [
           0.08,
           0.05,
           1,
           0.03,
           0.08,
           0.04,
           -0.02,
           0.17,
           0.18,
           0.18
          ],
          [
           0.63,
           -0.45,
           0.03,
           1,
           -0.07,
           -0.15,
           -0.01,
           0.2,
           -0.04,
           -0.04
          ],
          [
           -0.04,
           0.06,
           0.08,
           -0.07,
           1,
           0.51,
           0.43,
           0.09,
           0.25,
           0.35
          ],
          [
           -0.12,
           0.05,
           0.04,
           -0.15,
           0.51,
           1,
           0.54,
           0.16,
           0.26,
           0.39
          ],
          [
           -0.09,
           -0.07,
           -0.02,
           -0.01,
           0.43,
           0.54,
           1,
           0.09,
           0.22,
           0.4
          ],
          [
           0.19,
           -0.03,
           0.17,
           0.2,
           0.09,
           0.16,
           0.09,
           1,
           0.05,
           0.15
          ],
          [
           -0.08,
           -0.03,
           0.18,
           -0.04,
           0.25,
           0.26,
           0.22,
           0.05,
           1,
           0.22
          ],
          [
           -0.09,
           -0.04,
           0.18,
           -0.04,
           0.35,
           0.39,
           0.4,
           0.15,
           0.22,
           1
          ]
         ],
         "hovertemplate": "<b>Correlation</b><br>(%{x},%{y})<br><br>Synthetic: %{z}<br>(vs. Real: %{customdata})<extra></extra>",
         "type": "heatmap",
         "x": [
          "end_date",
          "start_date",
          "salary",
          "duration",
          "high_perc",
          "second_perc",
          "degree_perc",
          "experience_years",
          "employability_perc",
          "mba_perc"
         ],
         "xaxis": "x3",
         "y": [
          "end_date",
          "start_date",
          "salary",
          "duration",
          "high_perc",
          "second_perc",
          "degree_perc",
          "experience_years",
          "employability_perc",
          "mba_perc"
         ],
         "yaxis": "y3",
         "z": [
          [
           1,
           0.21,
           -0.02,
           -0.07,
           0.13,
           0.04,
           0.04,
           0.06,
           0.08,
           0.04
          ],
          [
           0.21,
           1,
           -0.01,
           -0.12,
           0.17,
           0.08,
           0.11,
           -0.13,
           -0.02,
           -0.08
          ],
          [
           -0.02,
           -0.01,
           1,
           0.09,
           0.16,
           0.1,
           -0.11,
           0.16,
           0.03,
           -0.1
          ],
          [
           -0.07,
           -0.12,
           0.09,
           1,
           -0.04,
           0.04,
           0.14,
           0.13,
           0.13,
           0.06
          ],
          [
           0.13,
           0.17,
           0.16,
           -0.04,
           1,
           -0.23,
           0.16,
           -0.03,
           0.07,
           -0.02
          ],
          [
           0.04,
           0.08,
           0.1,
           0.04,
           -0.23,
           1,
           0.08,
           0.03,
           0.14,
           0.05
          ],
          [
           0.04,
           0.11,
           -0.11,
           0.14,
           0.16,
           0.08,
           1,
           -0.06,
           0.06,
           0.15
          ],
          [
           0.06,
           -0.13,
           0.16,
           0.13,
           -0.03,
           0.03,
           -0.06,
           1,
           0.02,
           0.03
          ],
          [
           0.08,
           -0.02,
           0.03,
           0.13,
           0.07,
           0.14,
           0.06,
           0.02,
           1,
           -0.02
          ],
          [
           0.04,
           -0.08,
           -0.1,
           0.06,
           -0.02,
           0.05,
           0.15,
           0.03,
           -0.02,
           1
          ]
         ]
        }
       ],
       "layout": {
        "annotations": [
         {
          "font": {
           "size": 16
          },
          "showarrow": false,
          "text": "Real vs. Synthetic Similarity",
          "x": 0.5,
          "xanchor": "center",
          "xref": "paper",
          "y": 1,
          "yanchor": "bottom",
          "yref": "paper"
         },
         {
          "font": {
           "size": 16
          },
          "showarrow": false,
          "text": "Numerical Correlation (Real Data)",
          "x": 0.225,
          "xanchor": "center",
          "xref": "paper",
          "y": 0.375,
          "yanchor": "bottom",
          "yref": "paper"
         },
         {
          "font": {
           "size": 16
          },
          "showarrow": false,
          "text": "Numerical Correlation (Synthetic Data)",
          "x": 0.775,
          "xanchor": "center",
          "xref": "paper",
          "y": 0.375,
          "yanchor": "bottom",
          "yref": "paper"
         }
        ],
        "coloraxis": {
         "cmax": 1,
         "cmin": 0,
         "colorbar": {
          "len": 0.5,
          "x": 0.8,
          "y": 0.8
         },
         "colorscale": [
          [
           0,
           "#FF0000"
          ],
          [
           0.5,
           "#F16141"
          ],
          [
           1,
           "#36B37E"
          ]
         ]
        },
        "coloraxis2": {
         "cmax": 1,
         "cmin": -1,
         "colorbar": {
          "len": 0.5,
          "y": 0.2
         },
         "colorscale": [
          [
           0,
           "#03AFF1"
          ],
          [
           0.5,
           "#000036"
          ],
          [
           1,
           "#01E0C9"
          ]
         ]
        },
        "height": 900,
        "template": {
         "data": {
          "bar": [
           {
            "error_x": {
             "color": "#2a3f5f"
            },
            "error_y": {
             "color": "#2a3f5f"
            },
            "marker": {
             "line": {
              "color": "#E5ECF6",
              "width": 0.5
             },
             "pattern": {
              "fillmode": "overlay",
              "size": 10,
              "solidity": 0.2
             }
            },
            "type": "bar"
           }
          ],
          "barpolar": [
           {
            "marker": {
             "line": {
              "color": "#E5ECF6",
              "width": 0.5
             },
             "pattern": {
              "fillmode": "overlay",
              "size": 10,
              "solidity": 0.2
             }
            },
            "type": "barpolar"
           }
          ],
          "carpet": [
           {
            "aaxis": {
             "endlinecolor": "#2a3f5f",
             "gridcolor": "white",
             "linecolor": "white",
             "minorgridcolor": "white",
             "startlinecolor": "#2a3f5f"
            },
            "baxis": {
             "endlinecolor": "#2a3f5f",
             "gridcolor": "white",
             "linecolor": "white",
             "minorgridcolor": "white",
             "startlinecolor": "#2a3f5f"
            },
            "type": "carpet"
           }
          ],
          "choropleth": [
           {
            "colorbar": {
             "outlinewidth": 0,
             "ticks": ""
            },
            "type": "choropleth"
           }
          ],
          "contour": [
           {
            "colorbar": {
             "outlinewidth": 0,
             "ticks": ""
            },
            "colorscale": [
             [
              0,
              "#0d0887"
             ],
             [
              0.1111111111111111,
              "#46039f"
             ],
             [
              0.2222222222222222,
              "#7201a8"
             ],
             [
              0.3333333333333333,
              "#9c179e"
             ],
             [
              0.4444444444444444,
              "#bd3786"
             ],
             [
              0.5555555555555556,
              "#d8576b"
             ],
             [
              0.6666666666666666,
              "#ed7953"
             ],
             [
              0.7777777777777778,
              "#fb9f3a"
             ],
             [
              0.8888888888888888,
              "#fdca26"
             ],
             [
              1,
              "#f0f921"
             ]
            ],
            "type": "contour"
           }
          ],
          "contourcarpet": [
           {
            "colorbar": {
             "outlinewidth": 0,
             "ticks": ""
            },
            "type": "contourcarpet"
           }
          ],
          "heatmap": [
           {
            "colorbar": {
             "outlinewidth": 0,
             "ticks": ""
            },
            "colorscale": [
             [
              0,
              "#0d0887"
             ],
             [
              0.1111111111111111,
              "#46039f"
             ],
             [
              0.2222222222222222,
              "#7201a8"
             ],
             [
              0.3333333333333333,
              "#9c179e"
             ],
             [
              0.4444444444444444,
              "#bd3786"
             ],
             [
              0.5555555555555556,
              "#d8576b"
             ],
             [
              0.6666666666666666,
              "#ed7953"
             ],
             [
              0.7777777777777778,
              "#fb9f3a"
             ],
             [
              0.8888888888888888,
              "#fdca26"
             ],
             [
              1,
              "#f0f921"
             ]
            ],
            "type": "heatmap"
           }
          ],
          "heatmapgl": [
           {
            "colorbar": {
             "outlinewidth": 0,
             "ticks": ""
            },
            "colorscale": [
             [
              0,
              "#0d0887"
             ],
             [
              0.1111111111111111,
              "#46039f"
             ],
             [
              0.2222222222222222,
              "#7201a8"
             ],
             [
              0.3333333333333333,
              "#9c179e"
             ],
             [
              0.4444444444444444,
              "#bd3786"
             ],
             [
              0.5555555555555556,
              "#d8576b"
             ],
             [
              0.6666666666666666,
              "#ed7953"
             ],
             [
              0.7777777777777778,
              "#fb9f3a"
             ],
             [
              0.8888888888888888,
              "#fdca26"
             ],
             [
              1,
              "#f0f921"
             ]
            ],
            "type": "heatmapgl"
           }
          ],
          "histogram": [
           {
            "marker": {
             "pattern": {
              "fillmode": "overlay",
              "size": 10,
              "solidity": 0.2
             }
            },
            "type": "histogram"
           }
          ],
          "histogram2d": [
           {
            "colorbar": {
             "outlinewidth": 0,
             "ticks": ""
            },
            "colorscale": [
             [
              0,
              "#0d0887"
             ],
             [
              0.1111111111111111,
              "#46039f"
             ],
             [
              0.2222222222222222,
              "#7201a8"
             ],
             [
              0.3333333333333333,
              "#9c179e"
             ],
             [
              0.4444444444444444,
              "#bd3786"
             ],
             [
              0.5555555555555556,
              "#d8576b"
             ],
             [
              0.6666666666666666,
              "#ed7953"
             ],
             [
              0.7777777777777778,
              "#fb9f3a"
             ],
             [
              0.8888888888888888,
              "#fdca26"
             ],
             [
              1,
              "#f0f921"
             ]
            ],
            "type": "histogram2d"
           }
          ],
          "histogram2dcontour": [
           {
            "colorbar": {
             "outlinewidth": 0,
             "ticks": ""
            },
            "colorscale": [
             [
              0,
              "#0d0887"
             ],
             [
              0.1111111111111111,
              "#46039f"
             ],
             [
              0.2222222222222222,
              "#7201a8"
             ],
             [
              0.3333333333333333,
              "#9c179e"
             ],
             [
              0.4444444444444444,
              "#bd3786"
             ],
             [
              0.5555555555555556,
              "#d8576b"
             ],
             [
              0.6666666666666666,
              "#ed7953"
             ],
             [
              0.7777777777777778,
              "#fb9f3a"
             ],
             [
              0.8888888888888888,
              "#fdca26"
             ],
             [
              1,
              "#f0f921"
             ]
            ],
            "type": "histogram2dcontour"
           }
          ],
          "mesh3d": [
           {
            "colorbar": {
             "outlinewidth": 0,
             "ticks": ""
            },
            "type": "mesh3d"
           }
          ],
          "parcoords": [
           {
            "line": {
             "colorbar": {
              "outlinewidth": 0,
              "ticks": ""
             }
            },
            "type": "parcoords"
           }
          ],
          "pie": [
           {
            "automargin": true,
            "type": "pie"
           }
          ],
          "scatter": [
           {
            "fillpattern": {
             "fillmode": "overlay",
             "size": 10,
             "solidity": 0.2
            },
            "type": "scatter"
           }
          ],
          "scatter3d": [
           {
            "line": {
             "colorbar": {
              "outlinewidth": 0,
              "ticks": ""
             }
            },
            "marker": {
             "colorbar": {
              "outlinewidth": 0,
              "ticks": ""
             }
            },
            "type": "scatter3d"
           }
          ],
          "scattercarpet": [
           {
            "marker": {
             "colorbar": {
              "outlinewidth": 0,
              "ticks": ""
             }
            },
            "type": "scattercarpet"
           }
          ],
          "scattergeo": [
           {
            "marker": {
             "colorbar": {
              "outlinewidth": 0,
              "ticks": ""
             }
            },
            "type": "scattergeo"
           }
          ],
          "scattergl": [
           {
            "marker": {
             "colorbar": {
              "outlinewidth": 0,
              "ticks": ""
             }
            },
            "type": "scattergl"
           }
          ],
          "scattermapbox": [
           {
            "marker": {
             "colorbar": {
              "outlinewidth": 0,
              "ticks": ""
             }
            },
            "type": "scattermapbox"
           }
          ],
          "scatterpolar": [
           {
            "marker": {
             "colorbar": {
              "outlinewidth": 0,
              "ticks": ""
             }
            },
            "type": "scatterpolar"
           }
          ],
          "scatterpolargl": [
           {
            "marker": {
             "colorbar": {
              "outlinewidth": 0,
              "ticks": ""
             }
            },
            "type": "scatterpolargl"
           }
          ],
          "scatterternary": [
           {
            "marker": {
             "colorbar": {
              "outlinewidth": 0,
              "ticks": ""
             }
            },
            "type": "scatterternary"
           }
          ],
          "surface": [
           {
            "colorbar": {
             "outlinewidth": 0,
             "ticks": ""
            },
            "colorscale": [
             [
              0,
              "#0d0887"
             ],
             [
              0.1111111111111111,
              "#46039f"
             ],
             [
              0.2222222222222222,
              "#7201a8"
             ],
             [
              0.3333333333333333,
              "#9c179e"
             ],
             [
              0.4444444444444444,
              "#bd3786"
             ],
             [
              0.5555555555555556,
              "#d8576b"
             ],
             [
              0.6666666666666666,
              "#ed7953"
             ],
             [
              0.7777777777777778,
              "#fb9f3a"
             ],
             [
              0.8888888888888888,
              "#fdca26"
             ],
             [
              1,
              "#f0f921"
             ]
            ],
            "type": "surface"
           }
          ],
          "table": [
           {
            "cells": {
             "fill": {
              "color": "#EBF0F8"
             },
             "line": {
              "color": "white"
             }
            },
            "header": {
             "fill": {
              "color": "#C8D4E3"
             },
             "line": {
              "color": "white"
             }
            },
            "type": "table"
           }
          ]
         },
         "layout": {
          "annotationdefaults": {
           "arrowcolor": "#2a3f5f",
           "arrowhead": 0,
           "arrowwidth": 1
          },
          "autotypenumbers": "strict",
          "coloraxis": {
           "colorbar": {
            "outlinewidth": 0,
            "ticks": ""
           }
          },
          "colorscale": {
           "diverging": [
            [
             0,
             "#8e0152"
            ],
            [
             0.1,
             "#c51b7d"
            ],
            [
             0.2,
             "#de77ae"
            ],
            [
             0.3,
             "#f1b6da"
            ],
            [
             0.4,
             "#fde0ef"
            ],
            [
             0.5,
             "#f7f7f7"
            ],
            [
             0.6,
             "#e6f5d0"
            ],
            [
             0.7,
             "#b8e186"
            ],
            [
             0.8,
             "#7fbc41"
            ],
            [
             0.9,
             "#4d9221"
            ],
            [
             1,
             "#276419"
            ]
           ],
           "sequential": [
            [
             0,
             "#0d0887"
            ],
            [
             0.1111111111111111,
             "#46039f"
            ],
            [
             0.2222222222222222,
             "#7201a8"
            ],
            [
             0.3333333333333333,
             "#9c179e"
            ],
            [
             0.4444444444444444,
             "#bd3786"
            ],
            [
             0.5555555555555556,
             "#d8576b"
            ],
            [
             0.6666666666666666,
             "#ed7953"
            ],
            [
             0.7777777777777778,
             "#fb9f3a"
            ],
            [
             0.8888888888888888,
             "#fdca26"
            ],
            [
             1,
             "#f0f921"
            ]
           ],
           "sequentialminus": [
            [
             0,
             "#0d0887"
            ],
            [
             0.1111111111111111,
             "#46039f"
            ],
            [
             0.2222222222222222,
             "#7201a8"
            ],
            [
             0.3333333333333333,
             "#9c179e"
            ],
            [
             0.4444444444444444,
             "#bd3786"
            ],
            [
             0.5555555555555556,
             "#d8576b"
            ],
            [
             0.6666666666666666,
             "#ed7953"
            ],
            [
             0.7777777777777778,
             "#fb9f3a"
            ],
            [
             0.8888888888888888,
             "#fdca26"
            ],
            [
             1,
             "#f0f921"
            ]
           ]
          },
          "colorway": [
           "#636efa",
           "#EF553B",
           "#00cc96",
           "#ab63fa",
           "#FFA15A",
           "#19d3f3",
           "#FF6692",
           "#B6E880",
           "#FF97FF",
           "#FECB52"
          ],
          "font": {
           "color": "#2a3f5f"
          },
          "geo": {
           "bgcolor": "white",
           "lakecolor": "white",
           "landcolor": "#E5ECF6",
           "showlakes": true,
           "showland": true,
           "subunitcolor": "white"
          },
          "hoverlabel": {
           "align": "left"
          },
          "hovermode": "closest",
          "mapbox": {
           "style": "light"
          },
          "paper_bgcolor": "white",
          "plot_bgcolor": "#E5ECF6",
          "polar": {
           "angularaxis": {
            "gridcolor": "white",
            "linecolor": "white",
            "ticks": ""
           },
           "bgcolor": "#E5ECF6",
           "radialaxis": {
            "gridcolor": "white",
            "linecolor": "white",
            "ticks": ""
           }
          },
          "scene": {
           "xaxis": {
            "backgroundcolor": "#E5ECF6",
            "gridcolor": "white",
            "gridwidth": 2,
            "linecolor": "white",
            "showbackground": true,
            "ticks": "",
            "zerolinecolor": "white"
           },
           "yaxis": {
            "backgroundcolor": "#E5ECF6",
            "gridcolor": "white",
            "gridwidth": 2,
            "linecolor": "white",
            "showbackground": true,
            "ticks": "",
            "zerolinecolor": "white"
           },
           "zaxis": {
            "backgroundcolor": "#E5ECF6",
            "gridcolor": "white",
            "gridwidth": 2,
            "linecolor": "white",
            "showbackground": true,
            "ticks": "",
            "zerolinecolor": "white"
           }
          },
          "shapedefaults": {
           "line": {
            "color": "#2a3f5f"
           }
          },
          "ternary": {
           "aaxis": {
            "gridcolor": "white",
            "linecolor": "white",
            "ticks": ""
           },
           "baxis": {
            "gridcolor": "white",
            "linecolor": "white",
            "ticks": ""
           },
           "bgcolor": "#E5ECF6",
           "caxis": {
            "gridcolor": "white",
            "linecolor": "white",
            "ticks": ""
           }
          },
          "title": {
           "x": 0.05
          },
          "xaxis": {
           "automargin": true,
           "gridcolor": "white",
           "linecolor": "white",
           "ticks": "",
           "title": {
            "standoff": 15
           },
           "zerolinecolor": "white",
           "zerolinewidth": 2
          },
          "yaxis": {
           "automargin": true,
           "gridcolor": "white",
           "linecolor": "white",
           "ticks": "",
           "title": {
            "standoff": 15
           },
           "zerolinecolor": "white",
           "zerolinewidth": 2
          }
         }
        },
        "title": {
         "text": "Data Quality: Column Pair Trends (Average Score=0.81)"
        },
        "width": 900,
        "xaxis": {
         "anchor": "y",
         "domain": [
          0.26,
          0.74
         ]
        },
        "xaxis2": {
         "anchor": "y2",
         "domain": [
          0,
          0.45
         ]
        },
        "xaxis3": {
         "anchor": "y3",
         "domain": [
          0.55,
          1
         ],
         "matches": "x2"
        },
        "yaxis": {
         "anchor": "x",
         "autorange": "reversed",
         "domain": [
          0.625,
          1
         ]
        },
        "yaxis2": {
         "anchor": "x2",
         "autorange": "reversed",
         "domain": [
          0,
          0.375
         ]
        },
        "yaxis3": {
         "anchor": "x3",
         "autorange": "reversed",
         "domain": [
          0,
          0.375
         ],
         "matches": "y2",
         "visible": false
        }
       }
      }
     },
     "metadata": {},
     "output_type": "display_data"
    }
   ],
   "source": [
    "my_report.get_visualization(property_name='Column Pair Trends')"
   ]
  },
  {
   "cell_type": "code",
   "execution_count": 4,
   "metadata": {},
   "outputs": [],
   "source": [
    "my_report.save(filepath='Output/demo_data_quality_report.pkl')"
   ]
  },
  {
   "cell_type": "code",
   "execution_count": 5,
   "metadata": {},
   "outputs": [],
   "source": [
    "my_report = QualityReport.load(filepath='Output/demo_data_quality_report.pkl')"
   ]
  },
  {
   "cell_type": "code",
   "execution_count": 6,
   "metadata": {},
   "outputs": [
    {
     "data": {
      "text/plain": [
       "0.8503937007874016"
      ]
     },
     "execution_count": 6,
     "metadata": {},
     "output_type": "execute_result"
    }
   ],
   "source": [
    "from sdmetrics.single_column import BoundaryAdherence\n",
    "\n",
    "BoundaryAdherence.compute(\n",
    "    real_data['start_date'],\n",
    "    synthetic_data['start_date']\n",
    ")"
   ]
  },
  {
   "cell_type": "code",
   "execution_count": 7,
   "metadata": {},
   "outputs": [
    {
     "data": {
      "text/plain": [
       "1.0"
      ]
     },
     "execution_count": 7,
     "metadata": {},
     "output_type": "execute_result"
    }
   ],
   "source": [
    "from sdmetrics.single_table import NewRowSynthesis\n",
    "\n",
    "NewRowSynthesis.compute(\n",
    "    real_data,\n",
    "    synthetic_data,\n",
    "    metadata\n",
    ")"
   ]
  }
 ],
 "metadata": {
  "kernelspec": {
   "display_name": "Python 3",
   "language": "python",
   "name": "python3"
  },
  "language_info": {
   "codemirror_mode": {
    "name": "ipython",
    "version": 3
   },
   "file_extension": ".py",
   "mimetype": "text/x-python",
   "name": "python",
   "nbconvert_exporter": "python",
   "pygments_lexer": "ipython3",
   "version": "3.8.17"
  },
  "orig_nbformat": 4
 },
 "nbformat": 4,
 "nbformat_minor": 2
}
